{
 "cells": [
  {
   "cell_type": "code",
   "execution_count": 243,
   "id": "0abe5a18",
   "metadata": {},
   "outputs": [],
   "source": [
    "import pandas as pd"
   ]
  },
  {
   "cell_type": "code",
   "execution_count": 244,
   "id": "7cc87538",
   "metadata": {},
   "outputs": [],
   "source": [
    "DATASET_LOCATION=\"./dataset/expandedDataSet.csv\" "
   ]
  },
  {
   "cell_type": "code",
   "execution_count": 245,
   "id": "e2e77669",
   "metadata": {},
   "outputs": [],
   "source": [
    "ds = pd.read_csv(DATASET_LOCATION)"
   ]
  },
  {
   "cell_type": "code",
   "execution_count": 246,
   "id": "d278fd06",
   "metadata": {},
   "outputs": [],
   "source": [
    "ds.head(10)"
   ]
  },
  {
   "cell_type": "markdown",
   "id": "af6a2372",
   "metadata": {},
   "source": [
    "<h1><b>DESCRIZIONE DEGLI ATTRIBUTI</b></h1>\n",
    "<ul>\n",
    "    <li><b>Gender:</b> Gender of the student (male/female)</li>\n",
    "    <li><b>EthnicGroup:</b> Ethnic group of the student (group A to E)</li>\n",
    "    <li><b>ParentEduc:</b> Parent(s) education background (from some_highschool to master's degree)</li>\n",
    "    <li><b>LunchType:</b> School lunch type (standard or free/reduced)</li>\n",
    "    <li><b>TestPrep:</b> Test preparation course followed (completed or none)</li>\n",
    "    <li><b>ParentMaritalStatus:</b> Parent(s) marital status (married/single/widowed/divorced)</li>\n",
    "    <li><b>PracticeSport:</b> How often the student parctice sport (never/sometimes/regularly))</li>\n",
    "    <li><b>IsFirstChild:</b> If the child is first child in the family or not (yes/no)</li>\n",
    "    <li><b>NrSiblings:</b> Number of siblings the student has (0 to 7)</li>\n",
    "    <li><b>TransportMeans:</b> Means of transport to school (schoolbus/private)</li>\n",
    "    <li><b>WklyStudyHours:</b> Weekly self-study hours(less that 5hrs; between 5 and 10hrs; more than 10hrs)</li>\n",
    "    <li><b>MathScore:</b> math test score(0-100)</li>\n",
    "    <li><b>ReadingScore:</b> reading test score(0-100)</li>\n",
    "    <li><b>WritingScore:</b> writing test score(0-100)</li>\n",
    "</ul>\n"
   ]
  },
  {
   "cell_type": "code",
   "execution_count": 247,
   "id": "0f9ee29a",
   "metadata": {},
   "outputs": [],
   "source": [
    "#elimino la colonna TestPrep perchè ha troppi dati mancanti\n",
    "ds.drop(\"TestPrep\",axis=1,inplace=True)"
   ]
  },
  {
   "cell_type": "code",
   "execution_count": 248,
   "id": "edf07065",
   "metadata": {},
   "outputs": [],
   "source": [
    "#elimino la colonna indice perchè non è significativa\n",
    "ds.drop(\"Unnamed: 0\",axis=1,inplace=True)"
   ]
  },
  {
   "cell_type": "code",
   "execution_count": 249,
   "id": "dfc6bbe8",
   "metadata": {},
   "outputs": [],
   "source": [
    "#elimino la colonna LunchType perchè non sono sicuro che sia significativa\n",
    "ds.drop(\"LunchType\",axis=1,inplace=True)"
   ]
  },
  {
   "cell_type": "code",
   "execution_count": 250,
   "id": "4a1baa03",
   "metadata": {},
   "outputs": [],
   "source": [
    "ds.head(10)"
   ]
  },
  {
   "cell_type": "code",
   "execution_count": 251,
   "id": "7a759e0f",
   "metadata": {},
   "outputs": [],
   "source": [
    "ds.shape"
   ]
  },
  {
   "cell_type": "code",
   "execution_count": 252,
   "id": "6edb4a01",
   "metadata": {},
   "outputs": [],
   "source": [
    "ds.info()"
   ]
  },
  {
   "cell_type": "code",
   "execution_count": 253,
   "id": "7047392a",
   "metadata": {},
   "outputs": [],
   "source": [
    "#eliminiamo le osservazioni che presentano dati mancanti\n",
    "ds.dropna(inplace=True)"
   ]
  },
  {
   "cell_type": "code",
   "execution_count": 254,
   "id": "6554b5f1",
   "metadata": {},
   "outputs": [],
   "source": [
    "#Mappiamo Gender su un vettore di variabili dummy\n",
    "ds.Gender.replace({'male':1,'female':0},inplace=True)"
   ]
  },
  {
   "cell_type": "code",
   "execution_count": 255,
   "id": "fbca3e07",
   "metadata": {},
   "outputs": [],
   "source": [
    "ds.head(10)"
   ]
  },
  {
   "cell_type": "code",
   "execution_count": 256,
   "id": "3a6633ab",
   "metadata": {},
   "outputs": [],
   "source": [
    "ds_= pd.get_dummies(ds['EthnicGroup'], prefix='EG')\n",
    "ds = ds.join(ds_).drop('EthnicGroup',axis=1)"
   ]
  },
  {
   "cell_type": "code",
   "execution_count": 257,
   "id": "c29d7a39",
   "metadata": {},
   "outputs": [],
   "source": [
    "ds.head(10)"
   ]
  },
  {
   "cell_type": "code",
   "execution_count": 258,
   "id": "d916b342",
   "metadata": {},
   "outputs": [],
   "source": [
    "ds_= pd.get_dummies(ds['ParentEduc'], prefix='ParEduc')\n",
    "ds = ds.join(ds_).drop('ParentEduc',axis=1)"
   ]
  },
  {
   "cell_type": "code",
   "execution_count": 259,
   "id": "48591ee3",
   "metadata": {},
   "outputs": [],
   "source": [
    "ds.head(10)"
   ]
  },
  {
   "cell_type": "code",
   "execution_count": 260,
   "id": "812e7868",
   "metadata": {},
   "outputs": [],
   "source": [
    "ds_= pd.get_dummies(ds['ParentMaritalStatus'], prefix='ParMarStat')\n",
    "ds = ds.join(ds_).drop('ParentMaritalStatus',axis=1)"
   ]
  },
  {
   "cell_type": "code",
   "execution_count": 261,
   "id": "3d83ddd7",
   "metadata": {},
   "outputs": [],
   "source": [
    "ds.head(10)"
   ]
  },
  {
   "cell_type": "code",
   "execution_count": 262,
   "id": "0f577cc9",
   "metadata": {},
   "outputs": [],
   "source": [
    "ds_= pd.get_dummies(ds['PracticeSport'], prefix='sport')\n",
    "ds = ds.join(ds_).drop('PracticeSport',axis=1)"
   ]
  },
  {
   "cell_type": "code",
   "execution_count": 263,
   "id": "f975f703",
   "metadata": {},
   "outputs": [],
   "source": [
    "ds.head(10)"
   ]
  },
  {
   "cell_type": "code",
   "execution_count": 264,
   "id": "57518784",
   "metadata": {},
   "outputs": [],
   "source": [
    "ds.IsFirstChild.replace({'yes':1,'no':0},inplace=True)"
   ]
  },
  {
   "cell_type": "code",
   "execution_count": 265,
   "id": "6bf74a22",
   "metadata": {},
   "outputs": [],
   "source": [
    "ds.TransportMeans.replace({'school_bus':1,'private':0},inplace=True)"
   ]
  },
  {
   "cell_type": "code",
   "execution_count": 266,
   "id": "46aa5521",
   "metadata": {},
   "outputs": [],
   "source": [
    "ds_= pd.get_dummies(ds['WklyStudyHours'], prefix='studyHours')\n",
    "ds = ds.join(ds_).drop('WklyStudyHours',axis=1)"
   ]
  },
  {
   "cell_type": "code",
   "execution_count": 267,
   "id": "5a0c1aa0",
   "metadata": {},
   "outputs": [],
   "source": [
    "ds.head(10)"
   ]
  },
  {
   "cell_type": "code",
   "execution_count": 268,
   "id": "1ed707a5",
   "metadata": {},
   "outputs": [],
   "source": [
    "#Analisi della correlazione (Da fare)\n",
    "ds.corr()"
   ]
  },
  {
   "cell_type": "code",
   "execution_count": 269,
   "id": "c8f02a6b",
   "metadata": {},
   "outputs": [],
   "source": [
    "#Reading e writing sono altamente correlati, li aggreghiamo facendone la media\n",
    "new = pd.Series((ds.ReadingScore+ds.WritingScore)/2,name='RWScore')"
   ]
  },
  {
   "cell_type": "code",
   "execution_count": 215,
   "id": "9f49f876",
   "metadata": {},
   "outputs": [],
   "source": [
    "ds.drop(['ReadingScore','WritingScore'],axis=1,inplace=True)\n",
    "ds = ds.join(new)"
   ]
  },
  {
   "cell_type": "code",
   "execution_count": 216,
   "id": "f04230df",
   "metadata": {},
   "outputs": [],
   "source": [
    "ds.head(10)"
   ]
  },
  {
   "cell_type": "code",
   "execution_count": 217,
   "id": "8df8dda9",
   "metadata": {
    "scrolled": true
   },
   "outputs": [],
   "source": [
    "ds.corr()"
   ]
  },
  {
   "cell_type": "code",
   "execution_count": 218,
   "id": "f530813c",
   "metadata": {},
   "outputs": [],
   "source": [
    "#Dividiamo i valori delle valutazioni per 10\n",
    "#portandole così da un intervallo 0-100 a un intervallo 0-10\n",
    "mat2 =pd.Series(ds.MathScore/10,name='MathScore')\n",
    "ds.drop('MathScore',axis=1,inplace=True)\n",
    "ds = ds.join(mat2)\n",
    "rw2 =pd.Series(ds.RWScore/10,name='RWScore')\n",
    "ds.drop('RWScore',axis=1,inplace=True)\n",
    "ds = ds.join(rw2)"
   ]
  },
  {
   "cell_type": "code",
   "execution_count": 219,
   "id": "b7c8e485",
   "metadata": {},
   "outputs": [],
   "source": [
    "import numpy as np\n",
    "np.random.seed(50)"
   ]
  },
  {
   "cell_type": "code",
   "execution_count": 220,
   "id": "3977069d",
   "metadata": {},
   "outputs": [],
   "source": [
    "#Definiamo la funzione compute_performance così da poter poi stampare\n",
    "#la tabella con le varie perfomance dei diversi modelli\n",
    "#from sklearn.model_selection import cross_val_predict, cross_val_score\n",
    "\n",
    "import time\n",
    "\n",
    "pd.options.display.float_format = '{:.8f}'.format\n",
    "\n",
    "def compute_performance(modelli,names,X,y):\n",
    "    score_dict = {}\n",
    "    score_dict['Modello'] = {}\n",
    "    score_dict['mse'] = {}\n",
    "    score_dict['variance']= {}\n",
    "    score_dict['mae']= {}\n",
    "    score_dict['median_se']= {}\n",
    "    score_dict['r2']= {}\n",
    "    \n",
    "\n",
    "    for i in range(len(modelli)):\n",
    "        value_predictions = modelli[i].predict(X)\n",
    "        mse = mean_squared_error(y, value_predictions)\n",
    "        variance = explained_variance_score(y,value_predictions)\n",
    "        mae = mean_absolute_error(y,value_predictions)\n",
    "        median_se = median_absolute_error(y, value_predictions)\n",
    "        r2 = r2_score(y, value_predictions)\n",
    "\n",
    "        name = names[i]\n",
    "\n",
    "        score_dict['Modello'][i] = name\n",
    "        score_dict['mse'][i] = mse\n",
    "        score_dict['variance'][i] = variance\n",
    "        score_dict['mae'][i] = mae\n",
    "        score_dict['median_se'][i] = median_se\n",
    "        score_dict['r2'][i] = r2\n",
    "        \n",
    "    return score_dict"
   ]
  },
  {
   "cell_type": "code",
   "execution_count": 221,
   "id": "437a2b54",
   "metadata": {},
   "outputs": [],
   "source": [
    "regressori = []\n",
    "nomi = []"
   ]
  },
  {
   "cell_type": "markdown",
   "id": "c14539f1",
   "metadata": {},
   "source": [
    "<h1> Modello SVM </h1>"
   ]
  },
  {
   "cell_type": "code",
   "execution_count": 222,
   "id": "98a996ed",
   "metadata": {},
   "outputs": [],
   "source": [
    "modelli_svm = []"
   ]
  },
  {
   "cell_type": "code",
   "execution_count": 223,
   "id": "8fcaaa40",
   "metadata": {},
   "outputs": [],
   "source": [
    "#suddivisione del dataset in test set e training set\n",
    "from sklearn.model_selection import train_test_split\n",
    "from sklearn.metrics import*\n",
    "X = ds.drop('MathScore',axis=1)\n",
    "Y = ds['MathScore']\n",
    "X_train, X_test, y_train, y_test = train_test_split(X,Y, test_size=0.2)"
   ]
  },
  {
   "cell_type": "code",
   "execution_count": 224,
   "id": "bfce7c24",
   "metadata": {},
   "outputs": [],
   "source": [
    "from sklearn.svm import SVR\n",
    "svr_reg = SVR()\n",
    "svr_reg.fit(X_train,y_train)"
   ]
  },
  {
   "cell_type": "code",
   "execution_count": 225,
   "id": "6e9c5545",
   "metadata": {},
   "outputs": [],
   "source": [
    "#performance della SVR sul training set\n",
    "y_pred_svr= svr_reg.predict(X_train)\n",
    "mse = mean_squared_error(y_train,y_pred_svr)\n",
    "var = explained_variance_score(y_train,y_pred_svr)\n",
    "mae = mean_absolute_error(y_train,y_pred_svr)\n",
    "median_ae = median_absolute_error(y_train,y_pred_svr)\n",
    "r2 = r2_score(y_train,y_pred_svr)\n",
    "print(\"mse\",mse)\n",
    "print(\"var\",var)\n",
    "print(\"mae\",mae)\n",
    "print(\"median_ae\",median_ae)\n",
    "print(\"r2\",r2)"
   ]
  },
  {
   "cell_type": "code",
   "execution_count": 226,
   "id": "f66ad1db",
   "metadata": {},
   "outputs": [],
   "source": [
    "#performance della SVR sul test set\n",
    "y_pred_svr= svr_reg.predict(X_test)\n",
    "mse = mean_squared_error(y_test,y_pred_svr)\n",
    "var = explained_variance_score(y_test,y_pred_svr)\n",
    "mae = mean_absolute_error(y_test,y_pred_svr)\n",
    "median_ae = median_absolute_error(y_test,y_pred_svr)\n",
    "r2 = r2_score(y_test,y_pred_svr)\n",
    "print(\"mse\",mse)\n",
    "print(\"var\",var)\n",
    "print(\"mae\",mae)\n",
    "print(\"median_ae\",median_ae)\n",
    "print(\"r2\",r2)"
   ]
  },
  {
   "cell_type": "code",
   "execution_count": 227,
   "id": "ba317f37",
   "metadata": {},
   "outputs": [],
   "source": [
    "regressori.append(svr_reg)\n",
    "nomi.append(\"SVR Regressor\")\n",
    "modelli_svm.append(\"SVR Regressor\")"
   ]
  },
  {
   "cell_type": "markdown",
   "id": "1701e7b1",
   "metadata": {},
   "source": [
    "<h1>Modelli Lineari</h1></n>"
   ]
  },
  {
   "cell_type": "code",
   "execution_count": 228,
   "id": "46f975b2",
   "metadata": {},
   "outputs": [],
   "source": [
    "modelli_lineari = []"
   ]
  },
  {
   "cell_type": "markdown",
   "id": "5d86a3f8",
   "metadata": {},
   "source": [
    "<h2>Linear Regressor</h2>"
   ]
  },
  {
   "cell_type": "code",
   "execution_count": 229,
   "id": "ffab45a2",
   "metadata": {},
   "outputs": [],
   "source": [
    "from sklearn.linear_model import LinearRegression\n",
    "\n",
    "lin_reg = LinearRegression()\n",
    "lin_reg = lin_reg.fit(X_train, y_train)"
   ]
  },
  {
   "cell_type": "code",
   "execution_count": 230,
   "id": "353075e6",
   "metadata": {},
   "outputs": [],
   "source": [
    "#performance del linear regressor sul training set\n",
    "y_pred_lin= lin_reg.predict(X_train)\n",
    "mse = mean_squared_error(y_train,y_pred_lin)\n",
    "var = explained_variance_score(y_train,y_pred_lin)\n",
    "mae = mean_absolute_error(y_train,y_pred_lin)\n",
    "median_ae = median_absolute_error(y_train,y_pred_lin)\n",
    "r2 = r2_score(y_train,y_pred_lin)\n",
    "print(\"mse\",mse)\n",
    "print(\"var\",var)\n",
    "print(\"mae\",mae)\n",
    "print(\"median_ae\",median_ae)\n",
    "print(\"r2\",r2)"
   ]
  },
  {
   "cell_type": "code",
   "execution_count": 231,
   "id": "f34d31b7",
   "metadata": {},
   "outputs": [],
   "source": [
    "#performance del linear regressor sul test set\n",
    "y_pred_lin= lin_reg.predict(X_test)\n",
    "mse = mean_squared_error(y_test,y_pred_lin)\n",
    "var = explained_variance_score(y_test,y_pred_lin)\n",
    "mae = mean_absolute_error(y_test,y_pred_lin)\n",
    "median_ae = median_absolute_error(y_test,y_pred_lin)\n",
    "r2 = r2_score(y_test,y_pred_lin)\n",
    "print(\"mse\",mse)\n",
    "print(\"var\",var)\n",
    "print(\"mae\",mae)\n",
    "print(\"median_ae\",median_ae)\n",
    "print(\"r2\",r2)"
   ]
  },
  {
   "cell_type": "code",
   "execution_count": 232,
   "id": "d4a84180",
   "metadata": {},
   "outputs": [],
   "source": [
    "regressori.append(lin_reg)\n",
    "nomi.append(\"Linear Regressor\")\n",
    "modelli_lineari.append(\"Linear Regressor\")"
   ]
  },
  {
   "cell_type": "markdown",
   "id": "7482761f",
   "metadata": {},
   "source": [
    "<h1>SGD Regressor</h1>"
   ]
  },
  {
   "cell_type": "code",
   "execution_count": 233,
   "id": "1cacb56c",
   "metadata": {},
   "outputs": [],
   "source": [
    "from sklearn.linear_model import SGDRegressor\n",
    "\n",
    "sgd_reg = SGDRegressor() #maybe random_state=42\n",
    "sgd_reg.fit(X_train, y_train)"
   ]
  },
  {
   "cell_type": "code",
   "execution_count": 234,
   "id": "237d0a92",
   "metadata": {},
   "outputs": [],
   "source": [
    "#performance del linear regressor sul training set\n",
    "y_pred_sgd= sgd_reg.predict(X_train)\n",
    "mse = mean_squared_error(y_train,y_pred_sgd)\n",
    "var = explained_variance_score(y_train,y_pred_sgd)\n",
    "mae = mean_absolute_error(y_train,y_pred_sgd)\n",
    "median_ae = median_absolute_error(y_train,y_pred_sgd)\n",
    "r2 = r2_score(y_train,y_pred_sgd)\n",
    "print(\"mse\",mse)\n",
    "print(\"var\",var)\n",
    "print(\"mae\",mae)\n",
    "print(\"median_ae\",median_ae)\n",
    "print(\"r2\",r2)"
   ]
  },
  {
   "cell_type": "code",
   "execution_count": 235,
   "id": "f3d06e13",
   "metadata": {},
   "outputs": [],
   "source": [
    "#performance del linear regressor sul test set\n",
    "y_pred_sgd= sgd_reg.predict(X_test)\n",
    "mse = mean_squared_error(y_test,y_pred_sgd)\n",
    "var = explained_variance_score(y_test,y_pred_sgd)\n",
    "mae = mean_absolute_error(y_test,y_pred_sgd)\n",
    "median_ae = median_absolute_error(y_test,y_pred_sgd)\n",
    "r2 = r2_score(y_test,y_pred_sgd)\n",
    "print(\"mse\",mse)\n",
    "print(\"var\",var)\n",
    "print(\"mae\",mae)\n",
    "print(\"median_ae\",median_ae)\n",
    "print(\"r2\",r2)"
   ]
  },
  {
   "cell_type": "code",
   "execution_count": 236,
   "id": "6223d163",
   "metadata": {},
   "outputs": [],
   "source": [
    "regressori.append(sgd_reg)\n",
    "nomi.append(\"SGD Regressor\")\n",
    "modelli_lineari.append(\"SGD Regressor\")"
   ]
  },
  {
   "cell_type": "markdown",
   "id": "bce01678",
   "metadata": {},
   "source": [
    "<h1>Ensemble Models</h1>"
   ]
  },
  {
   "cell_type": "code",
   "execution_count": 237,
   "id": "201a0e25",
   "metadata": {},
   "outputs": [],
   "source": [
    "modelli_ensemble = []"
   ]
  },
  {
   "cell_type": "markdown",
   "id": "12efed50",
   "metadata": {},
   "source": [
    "<h2>Random Forest</h2>"
   ]
  },
  {
   "cell_type": "code",
   "execution_count": 238,
   "id": "729a6c0a",
   "metadata": {},
   "outputs": [],
   "source": [
    "from sklearn.ensemble import RandomForestRegressor\n",
    "\n",
    "forest_reg = RandomForestRegressor() #n_estimators=10, random_state=42\n",
    "forest_reg.fit(X_train, y_train)"
   ]
  },
  {
   "cell_type": "code",
   "execution_count": 239,
   "id": "fc4fd9e8",
   "metadata": {},
   "outputs": [],
   "source": [
    "#performance del forest regressor sul training set\n",
    "y_pred_forest= forest_reg.predict(X_train)\n",
    "mse = mean_squared_error(y_train,y_pred_forest)\n",
    "var = explained_variance_score(y_train,y_pred_forest)\n",
    "mae = mean_absolute_error(y_train,y_pred_forest)\n",
    "median_ae = median_absolute_error(y_train,y_pred_forest)\n",
    "r2 = r2_score(y_train,y_pred_forest)\n",
    "print(\"mse\",mse)\n",
    "print(\"var\",var)\n",
    "print(\"mae\",mae)\n",
    "print(\"median_ae\",median_ae)\n",
    "print(\"r2\",r2)"
   ]
  },
  {
   "cell_type": "code",
   "execution_count": 240,
   "id": "bb4600b3",
   "metadata": {},
   "outputs": [],
   "source": [
    "regressori.append(forest_reg)\n",
    "nomi.append(\"Forest Regressor\")\n",
    "modelli_lineari.append(\"Forest Regressor\")"
   ]
  },
  {
   "cell_type": "markdown",
   "id": "9234c1cc",
   "metadata": {},
   "source": [
    "<h1>Valutazione performance modelli - Training set</h1>"
   ]
  },
  {
   "cell_type": "code",
   "execution_count": 270,
   "id": "c394ebb8",
   "metadata": {},
   "outputs": [],
   "source": [
    "performance_modelli_training = compute_performance(regressori, nomi, X_train,y_train)\n",
    "performance_train = pd.DataFrame(performance_modelli_training)\n",
    "performance_train"
   ]
  },
  {
   "cell_type": "code",
   "execution_count": null,
   "id": "bf32371b",
   "metadata": {},
   "outputs": [],
   "source": []
  }
 ],
 "metadata": {
  "kernelspec": {
   "display_name": "Python 3 (ipykernel)",
   "language": "python",
   "name": "python3"
  },
  "language_info": {
   "codemirror_mode": {
    "name": "ipython",
    "version": 3
   },
   "file_extension": ".py",
   "mimetype": "text/x-python",
   "name": "python",
   "nbconvert_exporter": "python",
   "pygments_lexer": "ipython3",
   "version": "3.10.9"
  }
 },
 "nbformat": 4,
 "nbformat_minor": 5
}
