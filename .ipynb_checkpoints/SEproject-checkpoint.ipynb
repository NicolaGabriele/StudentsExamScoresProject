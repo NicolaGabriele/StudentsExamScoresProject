{
 "cells": [
  {
   "cell_type": "code",
   "execution_count": 76,
   "id": "0abe5a18",
   "metadata": {},
   "outputs": [],
   "source": [
    "import pandas as pd"
   ]
  },
  {
   "cell_type": "code",
   "execution_count": 77,
   "id": "7cc87538",
   "metadata": {},
   "outputs": [],
   "source": [
    "DATASET_LOCATION=\"./dataset/expandedDataSet.csv\" "
   ]
  },
  {
   "cell_type": "code",
   "execution_count": 78,
   "id": "e2e77669",
   "metadata": {},
   "outputs": [],
   "source": [
    "ds = pd.read_csv(DATASET_LOCATION)"
   ]
  },
  {
   "cell_type": "code",
   "execution_count": 79,
   "id": "d278fd06",
   "metadata": {},
   "outputs": [
    {
     "data": {
      "text/html": [
       "<div>\n",
       "<style scoped>\n",
       "    .dataframe tbody tr th:only-of-type {\n",
       "        vertical-align: middle;\n",
       "    }\n",
       "\n",
       "    .dataframe tbody tr th {\n",
       "        vertical-align: top;\n",
       "    }\n",
       "\n",
       "    .dataframe thead th {\n",
       "        text-align: right;\n",
       "    }\n",
       "</style>\n",
       "<table border=\"1\" class=\"dataframe\">\n",
       "  <thead>\n",
       "    <tr style=\"text-align: right;\">\n",
       "      <th></th>\n",
       "      <th>Unnamed: 0</th>\n",
       "      <th>Gender</th>\n",
       "      <th>EthnicGroup</th>\n",
       "      <th>ParentEduc</th>\n",
       "      <th>LunchType</th>\n",
       "      <th>TestPrep</th>\n",
       "      <th>ParentMaritalStatus</th>\n",
       "      <th>PracticeSport</th>\n",
       "      <th>IsFirstChild</th>\n",
       "      <th>NrSiblings</th>\n",
       "      <th>TransportMeans</th>\n",
       "      <th>WklyStudyHours</th>\n",
       "      <th>MathScore</th>\n",
       "      <th>ReadingScore</th>\n",
       "      <th>WritingScore</th>\n",
       "    </tr>\n",
       "  </thead>\n",
       "  <tbody>\n",
       "    <tr>\n",
       "      <th>0</th>\n",
       "      <td>0</td>\n",
       "      <td>female</td>\n",
       "      <td>NaN</td>\n",
       "      <td>bachelor's degree</td>\n",
       "      <td>standard</td>\n",
       "      <td>none</td>\n",
       "      <td>married</td>\n",
       "      <td>regularly</td>\n",
       "      <td>yes</td>\n",
       "      <td>3.00000000</td>\n",
       "      <td>school_bus</td>\n",
       "      <td>&lt; 5</td>\n",
       "      <td>71</td>\n",
       "      <td>71</td>\n",
       "      <td>74</td>\n",
       "    </tr>\n",
       "    <tr>\n",
       "      <th>1</th>\n",
       "      <td>1</td>\n",
       "      <td>female</td>\n",
       "      <td>group C</td>\n",
       "      <td>some college</td>\n",
       "      <td>standard</td>\n",
       "      <td>NaN</td>\n",
       "      <td>married</td>\n",
       "      <td>sometimes</td>\n",
       "      <td>yes</td>\n",
       "      <td>0.00000000</td>\n",
       "      <td>NaN</td>\n",
       "      <td>5 - 10</td>\n",
       "      <td>69</td>\n",
       "      <td>90</td>\n",
       "      <td>88</td>\n",
       "    </tr>\n",
       "    <tr>\n",
       "      <th>2</th>\n",
       "      <td>2</td>\n",
       "      <td>female</td>\n",
       "      <td>group B</td>\n",
       "      <td>master's degree</td>\n",
       "      <td>standard</td>\n",
       "      <td>none</td>\n",
       "      <td>single</td>\n",
       "      <td>sometimes</td>\n",
       "      <td>yes</td>\n",
       "      <td>4.00000000</td>\n",
       "      <td>school_bus</td>\n",
       "      <td>&lt; 5</td>\n",
       "      <td>87</td>\n",
       "      <td>93</td>\n",
       "      <td>91</td>\n",
       "    </tr>\n",
       "    <tr>\n",
       "      <th>3</th>\n",
       "      <td>3</td>\n",
       "      <td>male</td>\n",
       "      <td>group A</td>\n",
       "      <td>associate's degree</td>\n",
       "      <td>free/reduced</td>\n",
       "      <td>none</td>\n",
       "      <td>married</td>\n",
       "      <td>never</td>\n",
       "      <td>no</td>\n",
       "      <td>1.00000000</td>\n",
       "      <td>NaN</td>\n",
       "      <td>5 - 10</td>\n",
       "      <td>45</td>\n",
       "      <td>56</td>\n",
       "      <td>42</td>\n",
       "    </tr>\n",
       "    <tr>\n",
       "      <th>4</th>\n",
       "      <td>4</td>\n",
       "      <td>male</td>\n",
       "      <td>group C</td>\n",
       "      <td>some college</td>\n",
       "      <td>standard</td>\n",
       "      <td>none</td>\n",
       "      <td>married</td>\n",
       "      <td>sometimes</td>\n",
       "      <td>yes</td>\n",
       "      <td>0.00000000</td>\n",
       "      <td>school_bus</td>\n",
       "      <td>5 - 10</td>\n",
       "      <td>76</td>\n",
       "      <td>78</td>\n",
       "      <td>75</td>\n",
       "    </tr>\n",
       "    <tr>\n",
       "      <th>5</th>\n",
       "      <td>5</td>\n",
       "      <td>female</td>\n",
       "      <td>group B</td>\n",
       "      <td>associate's degree</td>\n",
       "      <td>standard</td>\n",
       "      <td>none</td>\n",
       "      <td>married</td>\n",
       "      <td>regularly</td>\n",
       "      <td>yes</td>\n",
       "      <td>1.00000000</td>\n",
       "      <td>school_bus</td>\n",
       "      <td>5 - 10</td>\n",
       "      <td>73</td>\n",
       "      <td>84</td>\n",
       "      <td>79</td>\n",
       "    </tr>\n",
       "    <tr>\n",
       "      <th>6</th>\n",
       "      <td>6</td>\n",
       "      <td>female</td>\n",
       "      <td>group B</td>\n",
       "      <td>some college</td>\n",
       "      <td>standard</td>\n",
       "      <td>completed</td>\n",
       "      <td>widowed</td>\n",
       "      <td>never</td>\n",
       "      <td>no</td>\n",
       "      <td>1.00000000</td>\n",
       "      <td>private</td>\n",
       "      <td>5 - 10</td>\n",
       "      <td>85</td>\n",
       "      <td>93</td>\n",
       "      <td>89</td>\n",
       "    </tr>\n",
       "    <tr>\n",
       "      <th>7</th>\n",
       "      <td>7</td>\n",
       "      <td>male</td>\n",
       "      <td>group B</td>\n",
       "      <td>some college</td>\n",
       "      <td>free/reduced</td>\n",
       "      <td>none</td>\n",
       "      <td>married</td>\n",
       "      <td>sometimes</td>\n",
       "      <td>yes</td>\n",
       "      <td>1.00000000</td>\n",
       "      <td>private</td>\n",
       "      <td>&gt; 10</td>\n",
       "      <td>41</td>\n",
       "      <td>43</td>\n",
       "      <td>39</td>\n",
       "    </tr>\n",
       "    <tr>\n",
       "      <th>8</th>\n",
       "      <td>8</td>\n",
       "      <td>male</td>\n",
       "      <td>group D</td>\n",
       "      <td>high school</td>\n",
       "      <td>free/reduced</td>\n",
       "      <td>completed</td>\n",
       "      <td>single</td>\n",
       "      <td>sometimes</td>\n",
       "      <td>no</td>\n",
       "      <td>3.00000000</td>\n",
       "      <td>private</td>\n",
       "      <td>&gt; 10</td>\n",
       "      <td>65</td>\n",
       "      <td>64</td>\n",
       "      <td>68</td>\n",
       "    </tr>\n",
       "    <tr>\n",
       "      <th>9</th>\n",
       "      <td>9</td>\n",
       "      <td>female</td>\n",
       "      <td>group B</td>\n",
       "      <td>high school</td>\n",
       "      <td>free/reduced</td>\n",
       "      <td>none</td>\n",
       "      <td>married</td>\n",
       "      <td>regularly</td>\n",
       "      <td>yes</td>\n",
       "      <td>NaN</td>\n",
       "      <td>private</td>\n",
       "      <td>&lt; 5</td>\n",
       "      <td>37</td>\n",
       "      <td>59</td>\n",
       "      <td>50</td>\n",
       "    </tr>\n",
       "  </tbody>\n",
       "</table>\n",
       "</div>"
      ],
      "text/plain": [
       "   Unnamed: 0  Gender EthnicGroup          ParentEduc     LunchType  \\\n",
       "0           0  female         NaN   bachelor's degree      standard   \n",
       "1           1  female     group C        some college      standard   \n",
       "2           2  female     group B     master's degree      standard   \n",
       "3           3    male     group A  associate's degree  free/reduced   \n",
       "4           4    male     group C        some college      standard   \n",
       "5           5  female     group B  associate's degree      standard   \n",
       "6           6  female     group B        some college      standard   \n",
       "7           7    male     group B        some college  free/reduced   \n",
       "8           8    male     group D         high school  free/reduced   \n",
       "9           9  female     group B         high school  free/reduced   \n",
       "\n",
       "    TestPrep ParentMaritalStatus PracticeSport IsFirstChild  NrSiblings  \\\n",
       "0       none             married     regularly          yes  3.00000000   \n",
       "1        NaN             married     sometimes          yes  0.00000000   \n",
       "2       none              single     sometimes          yes  4.00000000   \n",
       "3       none             married         never           no  1.00000000   \n",
       "4       none             married     sometimes          yes  0.00000000   \n",
       "5       none             married     regularly          yes  1.00000000   \n",
       "6  completed             widowed         never           no  1.00000000   \n",
       "7       none             married     sometimes          yes  1.00000000   \n",
       "8  completed              single     sometimes           no  3.00000000   \n",
       "9       none             married     regularly          yes         NaN   \n",
       "\n",
       "  TransportMeans WklyStudyHours  MathScore  ReadingScore  WritingScore  \n",
       "0     school_bus            < 5         71            71            74  \n",
       "1            NaN         5 - 10         69            90            88  \n",
       "2     school_bus            < 5         87            93            91  \n",
       "3            NaN         5 - 10         45            56            42  \n",
       "4     school_bus         5 - 10         76            78            75  \n",
       "5     school_bus         5 - 10         73            84            79  \n",
       "6        private         5 - 10         85            93            89  \n",
       "7        private           > 10         41            43            39  \n",
       "8        private           > 10         65            64            68  \n",
       "9        private            < 5         37            59            50  "
      ]
     },
     "execution_count": 79,
     "metadata": {},
     "output_type": "execute_result"
    }
   ],
   "source": [
    "ds.head(10)"
   ]
  },
  {
   "cell_type": "markdown",
   "id": "af6a2372",
   "metadata": {},
   "source": [
    "<h1><b>DESCRIZIONE DEGLI ATTRIBUTI</b></h1>\n",
    "<ul>\n",
    "    <li><b>Gender:</b> Gender of the student (male/female)</li>\n",
    "    <li><b>EthnicGroup:</b> Ethnic group of the student (group A to E)</li>\n",
    "    <li><b>ParentEduc:</b> Parent(s) education background (from some_highschool to master's degree)</li>\n",
    "    <li><b>LunchType:</b> School lunch type (standard or free/reduced)</li>\n",
    "    <li><b>TestPrep:</b> Test preparation course followed (completed or none)</li>\n",
    "    <li><b>ParentMaritalStatus:</b> Parent(s) marital status (married/single/widowed/divorced)</li>\n",
    "    <li><b>PracticeSport:</b> How often the student parctice sport (never/sometimes/regularly))</li>\n",
    "    <li><b>IsFirstChild:</b> If the child is first child in the family or not (yes/no)</li>\n",
    "    <li><b>NrSiblings:</b> Number of siblings the student has (0 to 7)</li>\n",
    "    <li><b>TransportMeans:</b> Means of transport to school (schoolbus/private)</li>\n",
    "    <li><b>WklyStudyHours:</b> Weekly self-study hours(less that 5hrs; between 5 and 10hrs; more than 10hrs)</li>\n",
    "    <li><b>MathScore:</b> math test score(0-100)</li>\n",
    "    <li><b>ReadingScore:</b> reading test score(0-100)</li>\n",
    "    <li><b>WritingScore:</b> writing test score(0-100)</li>\n",
    "</ul>\n"
   ]
  },
  {
   "cell_type": "code",
   "execution_count": 80,
   "id": "0f9ee29a",
   "metadata": {},
   "outputs": [],
   "source": [
    "#elimino la colonna TestPrep perchè ha troppi dati mancanti\n",
    "ds.drop(\"TestPrep\",axis=1,inplace=True)"
   ]
  },
  {
   "cell_type": "code",
   "execution_count": 81,
   "id": "edf07065",
   "metadata": {},
   "outputs": [],
   "source": [
    "#elimino la colonna indice perchè non è significativa\n",
    "ds.drop(\"Unnamed: 0\",axis=1,inplace=True)"
   ]
  },
  {
   "cell_type": "code",
   "execution_count": 82,
   "id": "dfc6bbe8",
   "metadata": {},
   "outputs": [],
   "source": [
    "#elimino la colonna LunchType perchè non sono sicuro che sia significativa\n",
    "ds.drop(\"LunchType\",axis=1,inplace=True)"
   ]
  },
  {
   "cell_type": "code",
   "execution_count": 83,
   "id": "4a1baa03",
   "metadata": {},
   "outputs": [
    {
     "data": {
      "text/html": [
       "<div>\n",
       "<style scoped>\n",
       "    .dataframe tbody tr th:only-of-type {\n",
       "        vertical-align: middle;\n",
       "    }\n",
       "\n",
       "    .dataframe tbody tr th {\n",
       "        vertical-align: top;\n",
       "    }\n",
       "\n",
       "    .dataframe thead th {\n",
       "        text-align: right;\n",
       "    }\n",
       "</style>\n",
       "<table border=\"1\" class=\"dataframe\">\n",
       "  <thead>\n",
       "    <tr style=\"text-align: right;\">\n",
       "      <th></th>\n",
       "      <th>Gender</th>\n",
       "      <th>EthnicGroup</th>\n",
       "      <th>ParentEduc</th>\n",
       "      <th>ParentMaritalStatus</th>\n",
       "      <th>PracticeSport</th>\n",
       "      <th>IsFirstChild</th>\n",
       "      <th>NrSiblings</th>\n",
       "      <th>TransportMeans</th>\n",
       "      <th>WklyStudyHours</th>\n",
       "      <th>MathScore</th>\n",
       "      <th>ReadingScore</th>\n",
       "      <th>WritingScore</th>\n",
       "    </tr>\n",
       "  </thead>\n",
       "  <tbody>\n",
       "    <tr>\n",
       "      <th>0</th>\n",
       "      <td>female</td>\n",
       "      <td>NaN</td>\n",
       "      <td>bachelor's degree</td>\n",
       "      <td>married</td>\n",
       "      <td>regularly</td>\n",
       "      <td>yes</td>\n",
       "      <td>3.00000000</td>\n",
       "      <td>school_bus</td>\n",
       "      <td>&lt; 5</td>\n",
       "      <td>71</td>\n",
       "      <td>71</td>\n",
       "      <td>74</td>\n",
       "    </tr>\n",
       "    <tr>\n",
       "      <th>1</th>\n",
       "      <td>female</td>\n",
       "      <td>group C</td>\n",
       "      <td>some college</td>\n",
       "      <td>married</td>\n",
       "      <td>sometimes</td>\n",
       "      <td>yes</td>\n",
       "      <td>0.00000000</td>\n",
       "      <td>NaN</td>\n",
       "      <td>5 - 10</td>\n",
       "      <td>69</td>\n",
       "      <td>90</td>\n",
       "      <td>88</td>\n",
       "    </tr>\n",
       "    <tr>\n",
       "      <th>2</th>\n",
       "      <td>female</td>\n",
       "      <td>group B</td>\n",
       "      <td>master's degree</td>\n",
       "      <td>single</td>\n",
       "      <td>sometimes</td>\n",
       "      <td>yes</td>\n",
       "      <td>4.00000000</td>\n",
       "      <td>school_bus</td>\n",
       "      <td>&lt; 5</td>\n",
       "      <td>87</td>\n",
       "      <td>93</td>\n",
       "      <td>91</td>\n",
       "    </tr>\n",
       "    <tr>\n",
       "      <th>3</th>\n",
       "      <td>male</td>\n",
       "      <td>group A</td>\n",
       "      <td>associate's degree</td>\n",
       "      <td>married</td>\n",
       "      <td>never</td>\n",
       "      <td>no</td>\n",
       "      <td>1.00000000</td>\n",
       "      <td>NaN</td>\n",
       "      <td>5 - 10</td>\n",
       "      <td>45</td>\n",
       "      <td>56</td>\n",
       "      <td>42</td>\n",
       "    </tr>\n",
       "    <tr>\n",
       "      <th>4</th>\n",
       "      <td>male</td>\n",
       "      <td>group C</td>\n",
       "      <td>some college</td>\n",
       "      <td>married</td>\n",
       "      <td>sometimes</td>\n",
       "      <td>yes</td>\n",
       "      <td>0.00000000</td>\n",
       "      <td>school_bus</td>\n",
       "      <td>5 - 10</td>\n",
       "      <td>76</td>\n",
       "      <td>78</td>\n",
       "      <td>75</td>\n",
       "    </tr>\n",
       "    <tr>\n",
       "      <th>5</th>\n",
       "      <td>female</td>\n",
       "      <td>group B</td>\n",
       "      <td>associate's degree</td>\n",
       "      <td>married</td>\n",
       "      <td>regularly</td>\n",
       "      <td>yes</td>\n",
       "      <td>1.00000000</td>\n",
       "      <td>school_bus</td>\n",
       "      <td>5 - 10</td>\n",
       "      <td>73</td>\n",
       "      <td>84</td>\n",
       "      <td>79</td>\n",
       "    </tr>\n",
       "    <tr>\n",
       "      <th>6</th>\n",
       "      <td>female</td>\n",
       "      <td>group B</td>\n",
       "      <td>some college</td>\n",
       "      <td>widowed</td>\n",
       "      <td>never</td>\n",
       "      <td>no</td>\n",
       "      <td>1.00000000</td>\n",
       "      <td>private</td>\n",
       "      <td>5 - 10</td>\n",
       "      <td>85</td>\n",
       "      <td>93</td>\n",
       "      <td>89</td>\n",
       "    </tr>\n",
       "    <tr>\n",
       "      <th>7</th>\n",
       "      <td>male</td>\n",
       "      <td>group B</td>\n",
       "      <td>some college</td>\n",
       "      <td>married</td>\n",
       "      <td>sometimes</td>\n",
       "      <td>yes</td>\n",
       "      <td>1.00000000</td>\n",
       "      <td>private</td>\n",
       "      <td>&gt; 10</td>\n",
       "      <td>41</td>\n",
       "      <td>43</td>\n",
       "      <td>39</td>\n",
       "    </tr>\n",
       "    <tr>\n",
       "      <th>8</th>\n",
       "      <td>male</td>\n",
       "      <td>group D</td>\n",
       "      <td>high school</td>\n",
       "      <td>single</td>\n",
       "      <td>sometimes</td>\n",
       "      <td>no</td>\n",
       "      <td>3.00000000</td>\n",
       "      <td>private</td>\n",
       "      <td>&gt; 10</td>\n",
       "      <td>65</td>\n",
       "      <td>64</td>\n",
       "      <td>68</td>\n",
       "    </tr>\n",
       "    <tr>\n",
       "      <th>9</th>\n",
       "      <td>female</td>\n",
       "      <td>group B</td>\n",
       "      <td>high school</td>\n",
       "      <td>married</td>\n",
       "      <td>regularly</td>\n",
       "      <td>yes</td>\n",
       "      <td>NaN</td>\n",
       "      <td>private</td>\n",
       "      <td>&lt; 5</td>\n",
       "      <td>37</td>\n",
       "      <td>59</td>\n",
       "      <td>50</td>\n",
       "    </tr>\n",
       "  </tbody>\n",
       "</table>\n",
       "</div>"
      ],
      "text/plain": [
       "   Gender EthnicGroup          ParentEduc ParentMaritalStatus PracticeSport  \\\n",
       "0  female         NaN   bachelor's degree             married     regularly   \n",
       "1  female     group C        some college             married     sometimes   \n",
       "2  female     group B     master's degree              single     sometimes   \n",
       "3    male     group A  associate's degree             married         never   \n",
       "4    male     group C        some college             married     sometimes   \n",
       "5  female     group B  associate's degree             married     regularly   \n",
       "6  female     group B        some college             widowed         never   \n",
       "7    male     group B        some college             married     sometimes   \n",
       "8    male     group D         high school              single     sometimes   \n",
       "9  female     group B         high school             married     regularly   \n",
       "\n",
       "  IsFirstChild  NrSiblings TransportMeans WklyStudyHours  MathScore  \\\n",
       "0          yes  3.00000000     school_bus            < 5         71   \n",
       "1          yes  0.00000000            NaN         5 - 10         69   \n",
       "2          yes  4.00000000     school_bus            < 5         87   \n",
       "3           no  1.00000000            NaN         5 - 10         45   \n",
       "4          yes  0.00000000     school_bus         5 - 10         76   \n",
       "5          yes  1.00000000     school_bus         5 - 10         73   \n",
       "6           no  1.00000000        private         5 - 10         85   \n",
       "7          yes  1.00000000        private           > 10         41   \n",
       "8           no  3.00000000        private           > 10         65   \n",
       "9          yes         NaN        private            < 5         37   \n",
       "\n",
       "   ReadingScore  WritingScore  \n",
       "0            71            74  \n",
       "1            90            88  \n",
       "2            93            91  \n",
       "3            56            42  \n",
       "4            78            75  \n",
       "5            84            79  \n",
       "6            93            89  \n",
       "7            43            39  \n",
       "8            64            68  \n",
       "9            59            50  "
      ]
     },
     "execution_count": 83,
     "metadata": {},
     "output_type": "execute_result"
    }
   ],
   "source": [
    "ds.head(10)"
   ]
  },
  {
   "cell_type": "code",
   "execution_count": 84,
   "id": "7a759e0f",
   "metadata": {},
   "outputs": [
    {
     "data": {
      "text/plain": [
       "(30641, 12)"
      ]
     },
     "execution_count": 84,
     "metadata": {},
     "output_type": "execute_result"
    }
   ],
   "source": [
    "ds.shape"
   ]
  },
  {
   "cell_type": "code",
   "execution_count": 85,
   "id": "6edb4a01",
   "metadata": {},
   "outputs": [
    {
     "name": "stdout",
     "output_type": "stream",
     "text": [
      "<class 'pandas.core.frame.DataFrame'>\n",
      "RangeIndex: 30641 entries, 0 to 30640\n",
      "Data columns (total 12 columns):\n",
      " #   Column               Non-Null Count  Dtype  \n",
      "---  ------               --------------  -----  \n",
      " 0   Gender               30641 non-null  object \n",
      " 1   EthnicGroup          28801 non-null  object \n",
      " 2   ParentEduc           28796 non-null  object \n",
      " 3   ParentMaritalStatus  29451 non-null  object \n",
      " 4   PracticeSport        30010 non-null  object \n",
      " 5   IsFirstChild         29737 non-null  object \n",
      " 6   NrSiblings           29069 non-null  float64\n",
      " 7   TransportMeans       27507 non-null  object \n",
      " 8   WklyStudyHours       29686 non-null  object \n",
      " 9   MathScore            30641 non-null  int64  \n",
      " 10  ReadingScore         30641 non-null  int64  \n",
      " 11  WritingScore         30641 non-null  int64  \n",
      "dtypes: float64(1), int64(3), object(8)\n",
      "memory usage: 2.8+ MB\n"
     ]
    }
   ],
   "source": [
    "ds.info()"
   ]
  },
  {
   "cell_type": "code",
   "execution_count": 86,
   "id": "7047392a",
   "metadata": {},
   "outputs": [],
   "source": [
    "#eliminiamo le osservazioni che presentano dati mancanti\n",
    "ds.dropna(inplace=True)"
   ]
  },
  {
   "cell_type": "code",
   "execution_count": 87,
   "id": "90e72b34",
   "metadata": {},
   "outputs": [
    {
     "name": "stdout",
     "output_type": "stream",
     "text": [
      "<class 'pandas.core.frame.DataFrame'>\n",
      "Int64Index: 20445 entries, 2 to 30640\n",
      "Data columns (total 12 columns):\n",
      " #   Column               Non-Null Count  Dtype  \n",
      "---  ------               --------------  -----  \n",
      " 0   Gender               20445 non-null  object \n",
      " 1   EthnicGroup          20445 non-null  object \n",
      " 2   ParentEduc           20445 non-null  object \n",
      " 3   ParentMaritalStatus  20445 non-null  object \n",
      " 4   PracticeSport        20445 non-null  object \n",
      " 5   IsFirstChild         20445 non-null  object \n",
      " 6   NrSiblings           20445 non-null  float64\n",
      " 7   TransportMeans       20445 non-null  object \n",
      " 8   WklyStudyHours       20445 non-null  object \n",
      " 9   MathScore            20445 non-null  int64  \n",
      " 10  ReadingScore         20445 non-null  int64  \n",
      " 11  WritingScore         20445 non-null  int64  \n",
      "dtypes: float64(1), int64(3), object(8)\n",
      "memory usage: 2.0+ MB\n"
     ]
    }
   ],
   "source": [
    "ds.info()"
   ]
  },
  {
   "cell_type": "code",
   "execution_count": 88,
   "id": "e1b999c6",
   "metadata": {},
   "outputs": [],
   "source": [
    "#verifichiamo se ci sono delle righe duplicate\n",
    "ds.drop_duplicates(inplace=True)"
   ]
  },
  {
   "cell_type": "code",
   "execution_count": 89,
   "id": "afdb8e5e",
   "metadata": {},
   "outputs": [
    {
     "name": "stdout",
     "output_type": "stream",
     "text": [
      "<class 'pandas.core.frame.DataFrame'>\n",
      "Int64Index: 20445 entries, 2 to 30640\n",
      "Data columns (total 12 columns):\n",
      " #   Column               Non-Null Count  Dtype  \n",
      "---  ------               --------------  -----  \n",
      " 0   Gender               20445 non-null  object \n",
      " 1   EthnicGroup          20445 non-null  object \n",
      " 2   ParentEduc           20445 non-null  object \n",
      " 3   ParentMaritalStatus  20445 non-null  object \n",
      " 4   PracticeSport        20445 non-null  object \n",
      " 5   IsFirstChild         20445 non-null  object \n",
      " 6   NrSiblings           20445 non-null  float64\n",
      " 7   TransportMeans       20445 non-null  object \n",
      " 8   WklyStudyHours       20445 non-null  object \n",
      " 9   MathScore            20445 non-null  int64  \n",
      " 10  ReadingScore         20445 non-null  int64  \n",
      " 11  WritingScore         20445 non-null  int64  \n",
      "dtypes: float64(1), int64(3), object(8)\n",
      "memory usage: 2.0+ MB\n"
     ]
    }
   ],
   "source": [
    "ds.info()"
   ]
  },
  {
   "cell_type": "code",
   "execution_count": 90,
   "id": "6554b5f1",
   "metadata": {},
   "outputs": [],
   "source": [
    "#Mappiamo Gender su un vettore di variabili dummy\n",
    "ds.Gender.replace({'male':1,'female':0},inplace=True)"
   ]
  },
  {
   "cell_type": "code",
   "execution_count": 91,
   "id": "fbca3e07",
   "metadata": {},
   "outputs": [
    {
     "data": {
      "text/html": [
       "<div>\n",
       "<style scoped>\n",
       "    .dataframe tbody tr th:only-of-type {\n",
       "        vertical-align: middle;\n",
       "    }\n",
       "\n",
       "    .dataframe tbody tr th {\n",
       "        vertical-align: top;\n",
       "    }\n",
       "\n",
       "    .dataframe thead th {\n",
       "        text-align: right;\n",
       "    }\n",
       "</style>\n",
       "<table border=\"1\" class=\"dataframe\">\n",
       "  <thead>\n",
       "    <tr style=\"text-align: right;\">\n",
       "      <th></th>\n",
       "      <th>Gender</th>\n",
       "      <th>EthnicGroup</th>\n",
       "      <th>ParentEduc</th>\n",
       "      <th>ParentMaritalStatus</th>\n",
       "      <th>PracticeSport</th>\n",
       "      <th>IsFirstChild</th>\n",
       "      <th>NrSiblings</th>\n",
       "      <th>TransportMeans</th>\n",
       "      <th>WklyStudyHours</th>\n",
       "      <th>MathScore</th>\n",
       "      <th>ReadingScore</th>\n",
       "      <th>WritingScore</th>\n",
       "    </tr>\n",
       "  </thead>\n",
       "  <tbody>\n",
       "    <tr>\n",
       "      <th>2</th>\n",
       "      <td>0</td>\n",
       "      <td>group B</td>\n",
       "      <td>master's degree</td>\n",
       "      <td>single</td>\n",
       "      <td>sometimes</td>\n",
       "      <td>yes</td>\n",
       "      <td>4.00000000</td>\n",
       "      <td>school_bus</td>\n",
       "      <td>&lt; 5</td>\n",
       "      <td>87</td>\n",
       "      <td>93</td>\n",
       "      <td>91</td>\n",
       "    </tr>\n",
       "    <tr>\n",
       "      <th>4</th>\n",
       "      <td>1</td>\n",
       "      <td>group C</td>\n",
       "      <td>some college</td>\n",
       "      <td>married</td>\n",
       "      <td>sometimes</td>\n",
       "      <td>yes</td>\n",
       "      <td>0.00000000</td>\n",
       "      <td>school_bus</td>\n",
       "      <td>5 - 10</td>\n",
       "      <td>76</td>\n",
       "      <td>78</td>\n",
       "      <td>75</td>\n",
       "    </tr>\n",
       "    <tr>\n",
       "      <th>5</th>\n",
       "      <td>0</td>\n",
       "      <td>group B</td>\n",
       "      <td>associate's degree</td>\n",
       "      <td>married</td>\n",
       "      <td>regularly</td>\n",
       "      <td>yes</td>\n",
       "      <td>1.00000000</td>\n",
       "      <td>school_bus</td>\n",
       "      <td>5 - 10</td>\n",
       "      <td>73</td>\n",
       "      <td>84</td>\n",
       "      <td>79</td>\n",
       "    </tr>\n",
       "    <tr>\n",
       "      <th>6</th>\n",
       "      <td>0</td>\n",
       "      <td>group B</td>\n",
       "      <td>some college</td>\n",
       "      <td>widowed</td>\n",
       "      <td>never</td>\n",
       "      <td>no</td>\n",
       "      <td>1.00000000</td>\n",
       "      <td>private</td>\n",
       "      <td>5 - 10</td>\n",
       "      <td>85</td>\n",
       "      <td>93</td>\n",
       "      <td>89</td>\n",
       "    </tr>\n",
       "    <tr>\n",
       "      <th>7</th>\n",
       "      <td>1</td>\n",
       "      <td>group B</td>\n",
       "      <td>some college</td>\n",
       "      <td>married</td>\n",
       "      <td>sometimes</td>\n",
       "      <td>yes</td>\n",
       "      <td>1.00000000</td>\n",
       "      <td>private</td>\n",
       "      <td>&gt; 10</td>\n",
       "      <td>41</td>\n",
       "      <td>43</td>\n",
       "      <td>39</td>\n",
       "    </tr>\n",
       "    <tr>\n",
       "      <th>8</th>\n",
       "      <td>1</td>\n",
       "      <td>group D</td>\n",
       "      <td>high school</td>\n",
       "      <td>single</td>\n",
       "      <td>sometimes</td>\n",
       "      <td>no</td>\n",
       "      <td>3.00000000</td>\n",
       "      <td>private</td>\n",
       "      <td>&gt; 10</td>\n",
       "      <td>65</td>\n",
       "      <td>64</td>\n",
       "      <td>68</td>\n",
       "    </tr>\n",
       "    <tr>\n",
       "      <th>11</th>\n",
       "      <td>1</td>\n",
       "      <td>group D</td>\n",
       "      <td>associate's degree</td>\n",
       "      <td>divorced</td>\n",
       "      <td>sometimes</td>\n",
       "      <td>yes</td>\n",
       "      <td>1.00000000</td>\n",
       "      <td>school_bus</td>\n",
       "      <td>5 - 10</td>\n",
       "      <td>40</td>\n",
       "      <td>52</td>\n",
       "      <td>43</td>\n",
       "    </tr>\n",
       "    <tr>\n",
       "      <th>12</th>\n",
       "      <td>0</td>\n",
       "      <td>group B</td>\n",
       "      <td>high school</td>\n",
       "      <td>married</td>\n",
       "      <td>regularly</td>\n",
       "      <td>no</td>\n",
       "      <td>1.00000000</td>\n",
       "      <td>private</td>\n",
       "      <td>5 - 10</td>\n",
       "      <td>66</td>\n",
       "      <td>82</td>\n",
       "      <td>74</td>\n",
       "    </tr>\n",
       "    <tr>\n",
       "      <th>13</th>\n",
       "      <td>1</td>\n",
       "      <td>group A</td>\n",
       "      <td>some college</td>\n",
       "      <td>single</td>\n",
       "      <td>sometimes</td>\n",
       "      <td>yes</td>\n",
       "      <td>1.00000000</td>\n",
       "      <td>private</td>\n",
       "      <td>&gt; 10</td>\n",
       "      <td>80</td>\n",
       "      <td>73</td>\n",
       "      <td>71</td>\n",
       "    </tr>\n",
       "    <tr>\n",
       "      <th>14</th>\n",
       "      <td>0</td>\n",
       "      <td>group A</td>\n",
       "      <td>master's degree</td>\n",
       "      <td>divorced</td>\n",
       "      <td>sometimes</td>\n",
       "      <td>yes</td>\n",
       "      <td>2.00000000</td>\n",
       "      <td>private</td>\n",
       "      <td>&lt; 5</td>\n",
       "      <td>48</td>\n",
       "      <td>53</td>\n",
       "      <td>58</td>\n",
       "    </tr>\n",
       "  </tbody>\n",
       "</table>\n",
       "</div>"
      ],
      "text/plain": [
       "    Gender EthnicGroup          ParentEduc ParentMaritalStatus PracticeSport  \\\n",
       "2        0     group B     master's degree              single     sometimes   \n",
       "4        1     group C        some college             married     sometimes   \n",
       "5        0     group B  associate's degree             married     regularly   \n",
       "6        0     group B        some college             widowed         never   \n",
       "7        1     group B        some college             married     sometimes   \n",
       "8        1     group D         high school              single     sometimes   \n",
       "11       1     group D  associate's degree            divorced     sometimes   \n",
       "12       0     group B         high school             married     regularly   \n",
       "13       1     group A        some college              single     sometimes   \n",
       "14       0     group A     master's degree            divorced     sometimes   \n",
       "\n",
       "   IsFirstChild  NrSiblings TransportMeans WklyStudyHours  MathScore  \\\n",
       "2           yes  4.00000000     school_bus            < 5         87   \n",
       "4           yes  0.00000000     school_bus         5 - 10         76   \n",
       "5           yes  1.00000000     school_bus         5 - 10         73   \n",
       "6            no  1.00000000        private         5 - 10         85   \n",
       "7           yes  1.00000000        private           > 10         41   \n",
       "8            no  3.00000000        private           > 10         65   \n",
       "11          yes  1.00000000     school_bus         5 - 10         40   \n",
       "12           no  1.00000000        private         5 - 10         66   \n",
       "13          yes  1.00000000        private           > 10         80   \n",
       "14          yes  2.00000000        private            < 5         48   \n",
       "\n",
       "    ReadingScore  WritingScore  \n",
       "2             93            91  \n",
       "4             78            75  \n",
       "5             84            79  \n",
       "6             93            89  \n",
       "7             43            39  \n",
       "8             64            68  \n",
       "11            52            43  \n",
       "12            82            74  \n",
       "13            73            71  \n",
       "14            53            58  "
      ]
     },
     "execution_count": 91,
     "metadata": {},
     "output_type": "execute_result"
    }
   ],
   "source": [
    "ds.head(10)"
   ]
  },
  {
   "cell_type": "code",
   "execution_count": 92,
   "id": "3a6633ab",
   "metadata": {},
   "outputs": [],
   "source": [
    "ds_= pd.get_dummies(ds['EthnicGroup'], prefix='EG')\n",
    "ds = ds.join(ds_).drop('EthnicGroup',axis=1)"
   ]
  },
  {
   "cell_type": "code",
   "execution_count": 93,
   "id": "c29d7a39",
   "metadata": {},
   "outputs": [],
   "source": [
    "ds.head(10)"
   ]
  },
  {
   "cell_type": "code",
   "execution_count": 94,
   "id": "d916b342",
   "metadata": {},
   "outputs": [],
   "source": [
    "ds_= pd.get_dummies(ds['ParentEduc'], prefix='ParEduc')\n",
    "ds = ds.join(ds_).drop('ParentEduc',axis=1)"
   ]
  },
  {
   "cell_type": "code",
   "execution_count": 95,
   "id": "48591ee3",
   "metadata": {},
   "outputs": [],
   "source": [
    "ds.head(10)"
   ]
  },
  {
   "cell_type": "code",
   "execution_count": 96,
   "id": "812e7868",
   "metadata": {},
   "outputs": [],
   "source": [
    "ds_= pd.get_dummies(ds['ParentMaritalStatus'], prefix='ParMarStat')\n",
    "ds = ds.join(ds_).drop('ParentMaritalStatus',axis=1)"
   ]
  },
  {
   "cell_type": "code",
   "execution_count": 97,
   "id": "3d83ddd7",
   "metadata": {},
   "outputs": [],
   "source": [
    "ds.head(10)"
   ]
  },
  {
   "cell_type": "code",
   "execution_count": 98,
   "id": "0f577cc9",
   "metadata": {},
   "outputs": [],
   "source": [
    "ds_= pd.get_dummies(ds['PracticeSport'], prefix='sport')\n",
    "ds = ds.join(ds_).drop('PracticeSport',axis=1)"
   ]
  },
  {
   "cell_type": "code",
   "execution_count": 99,
   "id": "f975f703",
   "metadata": {},
   "outputs": [],
   "source": [
    "ds.head(10)"
   ]
  },
  {
   "cell_type": "code",
   "execution_count": 100,
   "id": "57518784",
   "metadata": {},
   "outputs": [],
   "source": [
    "ds.IsFirstChild.replace({'yes':1,'no':0},inplace=True)"
   ]
  },
  {
   "cell_type": "code",
   "execution_count": 101,
   "id": "6bf74a22",
   "metadata": {},
   "outputs": [],
   "source": [
    "ds.TransportMeans.replace({'school_bus':1,'private':0},inplace=True)"
   ]
  },
  {
   "cell_type": "code",
   "execution_count": 102,
   "id": "46aa5521",
   "metadata": {},
   "outputs": [],
   "source": [
    "ds_= pd.get_dummies(ds['WklyStudyHours'], prefix='studyHours')\n",
    "ds = ds.join(ds_).drop('WklyStudyHours',axis=1)"
   ]
  },
  {
   "cell_type": "code",
   "execution_count": 103,
   "id": "5a0c1aa0",
   "metadata": {},
   "outputs": [],
   "source": [
    "ds.head(10)"
   ]
  },
  {
   "cell_type": "code",
   "execution_count": 104,
   "id": "1ed707a5",
   "metadata": {},
   "outputs": [],
   "source": [
    "#Analisi della correlazione (Da fare)\n",
    "ds.corr()"
   ]
  },
  {
   "cell_type": "code",
   "execution_count": 105,
   "id": "c8f02a6b",
   "metadata": {},
   "outputs": [],
   "source": [
    "#Reading e writing sono altamente correlati, li aggreghiamo facendone la media\n",
    "new = pd.Series((ds.ReadingScore+ds.WritingScore)/2,name='RWScore')"
   ]
  },
  {
   "cell_type": "code",
   "execution_count": 106,
   "id": "9f49f876",
   "metadata": {},
   "outputs": [],
   "source": [
    "ds.drop(['ReadingScore','WritingScore'],axis=1,inplace=True)\n",
    "ds = ds.join(new)"
   ]
  },
  {
   "cell_type": "code",
   "execution_count": 107,
   "id": "f04230df",
   "metadata": {},
   "outputs": [],
   "source": [
    "ds.head(10)"
   ]
  },
  {
   "cell_type": "code",
   "execution_count": 108,
   "id": "8df8dda9",
   "metadata": {
    "scrolled": true
   },
   "outputs": [],
   "source": [
    "ds.corr()"
   ]
  },
  {
   "cell_type": "code",
   "execution_count": 109,
   "id": "f530813c",
   "metadata": {},
   "outputs": [],
   "source": [
    "#Dividiamo i valori delle valutazioni per 10\n",
    "#portandole così da un intervallo 0-100 a un intervallo 0-10\n",
    "mat2 =pd.Series(ds.MathScore/10,name='MathScore')\n",
    "ds.drop('MathScore',axis=1,inplace=True)\n",
    "ds = ds.join(mat2)\n",
    "rw2 =pd.Series(ds.RWScore/10,name='RWScore')\n",
    "ds.drop('RWScore',axis=1,inplace=True)\n",
    "ds = ds.join(rw2)"
   ]
  },
  {
   "cell_type": "code",
   "execution_count": 110,
   "id": "b7c8e485",
   "metadata": {},
   "outputs": [],
   "source": [
    "import numpy as np\n",
    "np.random.seed(50)"
   ]
  },
  {
   "cell_type": "code",
   "execution_count": 111,
   "id": "3977069d",
   "metadata": {},
   "outputs": [],
   "source": [
    "#Definiamo la funzione compute_performance così da poter poi stampare\n",
    "#la tabella con le varie perfomance dei diversi modelli\n",
    "#from sklearn.model_selection import cross_val_predict, cross_val_score\n",
    "\n",
    "import time\n",
    "\n",
    "pd.options.display.float_format = '{:.8f}'.format\n",
    "\n",
    "def compute_performance(modelli,names,X,y):\n",
    "    score_dict = {}\n",
    "    score_dict['Modello'] = {}\n",
    "    score_dict['mse'] = {}\n",
    "    score_dict['variance']= {}\n",
    "    score_dict['mae']= {}\n",
    "    score_dict['median_ae']= {}\n",
    "    score_dict['r2']= {}\n",
    "    \n",
    "\n",
    "    for i in range(len(modelli)):\n",
    "        value_predictions = modelli[i].predict(X)\n",
    "        mse = mean_squared_error(y, value_predictions)\n",
    "        variance = explained_variance_score(y,value_predictions)\n",
    "        mae = mean_absolute_error(y,value_predictions)\n",
    "        median_ae = median_absolute_error(y, value_predictions)\n",
    "        r2 = r2_score(y, value_predictions)\n",
    "\n",
    "        name = names[i]\n",
    "\n",
    "        score_dict['Modello'][i] = name\n",
    "        score_dict['mse'][i] = mse\n",
    "        score_dict['variance'][i] = variance\n",
    "        score_dict['mae'][i] = mae\n",
    "        score_dict['median_ae'][i] = median_ae\n",
    "        score_dict['r2'][i] = r2\n",
    "        \n",
    "    return score_dict"
   ]
  },
  {
   "cell_type": "code",
   "execution_count": 112,
   "id": "437a2b54",
   "metadata": {},
   "outputs": [],
   "source": [
    "regressori = []\n",
    "nomi = []"
   ]
  },
  {
   "cell_type": "markdown",
   "id": "c14539f1",
   "metadata": {},
   "source": [
    "<h1> Modello SVM </h1>"
   ]
  },
  {
   "cell_type": "code",
   "execution_count": 113,
   "id": "98a996ed",
   "metadata": {},
   "outputs": [],
   "source": [
    "modelli_svm = []"
   ]
  },
  {
   "cell_type": "code",
   "execution_count": 114,
   "id": "8fcaaa40",
   "metadata": {},
   "outputs": [],
   "source": [
    "#suddivisione del dataset in test set e training set\n",
    "from sklearn.model_selection import train_test_split\n",
    "from sklearn.metrics import*\n",
    "X = ds.drop('MathScore',axis=1)\n",
    "Y = ds['MathScore']\n",
    "X_train, X_test, y_train, y_test = train_test_split(X,Y, test_size=0.2)"
   ]
  },
  {
   "cell_type": "code",
   "execution_count": 115,
   "id": "bfce7c24",
   "metadata": {},
   "outputs": [],
   "source": [
    "from sklearn.svm import SVR\n",
    "svr_reg = SVR()\n",
    "svr_reg.fit(X_train,y_train)"
   ]
  },
  {
   "cell_type": "code",
   "execution_count": 116,
   "id": "6e9c5545",
   "metadata": {},
   "outputs": [],
   "source": [
    "#performance della SVR sul training set\n",
    "y_pred_svr= svr_reg.predict(X_train)\n",
    "'''mse = mean_squared_error(y_train,y_pred_svr)\n",
    "var = explained_variance_score(y_train,y_pred_svr)\n",
    "mae = mean_absolute_error(y_train,y_pred_svr)\n",
    "median_ae = median_absolute_error(y_train,y_pred_svr)\n",
    "r2 = r2_score(y_train,y_pred_svr)\n",
    "print(\"mse\",mse)\n",
    "print(\"var\",var)\n",
    "print(\"mae\",mae)\n",
    "print(\"median_ae\",median_ae)\n",
    "print(\"r2\",r2)'''"
   ]
  },
  {
   "cell_type": "code",
   "execution_count": 117,
   "id": "f66ad1db",
   "metadata": {},
   "outputs": [],
   "source": [
    "#performance della SVR sul test set\n",
    "y_pred_svr= svr_reg.predict(X_test)\n",
    "'''mse = mean_squared_error(y_test,y_pred_svr)\n",
    "var = explained_variance_score(y_test,y_pred_svr)\n",
    "mae = mean_absolute_error(y_test,y_pred_svr)\n",
    "median_ae = median_absolute_error(y_test,y_pred_svr)\n",
    "r2 = r2_score(y_test,y_pred_svr)\n",
    "print(\"mse\",mse)\n",
    "print(\"var\",var)\n",
    "print(\"mae\",mae)\n",
    "print(\"median_ae\",median_ae)\n",
    "print(\"r2\",r2)'''"
   ]
  },
  {
   "cell_type": "code",
   "execution_count": 118,
   "id": "ba317f37",
   "metadata": {},
   "outputs": [],
   "source": [
    "regressori.append(svr_reg)\n",
    "nomi.append(\"SVR Regressor\")\n",
    "modelli_svm.append(\"SVR Regressor\")"
   ]
  },
  {
   "cell_type": "markdown",
   "id": "1701e7b1",
   "metadata": {},
   "source": [
    "<h1>Modelli Lineari</h1></n>"
   ]
  },
  {
   "cell_type": "code",
   "execution_count": 119,
   "id": "46f975b2",
   "metadata": {},
   "outputs": [],
   "source": [
    "modelli_lineari = []"
   ]
  },
  {
   "cell_type": "markdown",
   "id": "5d86a3f8",
   "metadata": {},
   "source": [
    "<h2>Linear Regressor</h2>"
   ]
  },
  {
   "cell_type": "code",
   "execution_count": 120,
   "id": "ffab45a2",
   "metadata": {},
   "outputs": [],
   "source": [
    "from sklearn.linear_model import LinearRegression\n",
    "\n",
    "lin_reg = LinearRegression()\n",
    "lin_reg = lin_reg.fit(X_train, y_train)"
   ]
  },
  {
   "cell_type": "code",
   "execution_count": 121,
   "id": "353075e6",
   "metadata": {},
   "outputs": [],
   "source": [
    "#performance del linear regressor sul training set\n",
    "y_pred_lin= lin_reg.predict(X_train)\n",
    "'''mse = mean_squared_error(y_train,y_pred_lin)\n",
    "var = explained_variance_score(y_train,y_pred_lin)\n",
    "mae = mean_absolute_error(y_train,y_pred_lin)\n",
    "median_ae = median_absolute_error(y_train,y_pred_lin)\n",
    "r2 = r2_score(y_train,y_pred_lin)\n",
    "print(\"mse\",mse)\n",
    "print(\"var\",var)\n",
    "print(\"mae\",mae)\n",
    "print(\"median_ae\",median_ae)\n",
    "print(\"r2\",r2)'''"
   ]
  },
  {
   "cell_type": "code",
   "execution_count": 122,
   "id": "f34d31b7",
   "metadata": {},
   "outputs": [],
   "source": [
    "#performance del linear regressor sul test set\n",
    "y_pred_lin= lin_reg.predict(X_test)\n",
    "'''mse = mean_squared_error(y_test,y_pred_lin)\n",
    "var = explained_variance_score(y_test,y_pred_lin)\n",
    "mae = mean_absolute_error(y_test,y_pred_lin)\n",
    "median_ae = median_absolute_error(y_test,y_pred_lin)\n",
    "r2 = r2_score(y_test,y_pred_lin)\n",
    "print(\"mse\",mse)\n",
    "print(\"var\",var)\n",
    "print(\"mae\",mae)\n",
    "print(\"median_ae\",median_ae)\n",
    "print(\"r2\",r2)'''"
   ]
  },
  {
   "cell_type": "code",
   "execution_count": 123,
   "id": "d4a84180",
   "metadata": {},
   "outputs": [],
   "source": [
    "regressori.append(lin_reg)\n",
    "nomi.append(\"Linear Regressor\")\n",
    "modelli_lineari.append(\"Linear Regressor\")"
   ]
  },
  {
   "cell_type": "markdown",
   "id": "7482761f",
   "metadata": {},
   "source": [
    "<h1>SGD Regressor</h1>"
   ]
  },
  {
   "cell_type": "code",
   "execution_count": 124,
   "id": "1cacb56c",
   "metadata": {},
   "outputs": [],
   "source": [
    "from sklearn.linear_model import SGDRegressor\n",
    "\n",
    "sgd_reg = SGDRegressor() #maybe random_state=42\n",
    "sgd_reg.fit(X_train, y_train)"
   ]
  },
  {
   "cell_type": "code",
   "execution_count": 125,
   "id": "237d0a92",
   "metadata": {},
   "outputs": [],
   "source": [
    "#performance del linear regressor sul training set\n",
    "y_pred_sgd= sgd_reg.predict(X_train)\n",
    "'''mse = mean_squared_error(y_train,y_pred_sgd)\n",
    "var = explained_variance_score(y_train,y_pred_sgd)\n",
    "mae = mean_absolute_error(y_train,y_pred_sgd)\n",
    "median_ae = median_absolute_error(y_train,y_pred_sgd)\n",
    "r2 = r2_score(y_train,y_pred_sgd)\n",
    "print(\"mse\",mse)\n",
    "print(\"var\",var)\n",
    "print(\"mae\",mae)\n",
    "print(\"median_ae\",median_ae)\n",
    "print(\"r2\",r2)'''"
   ]
  },
  {
   "cell_type": "code",
   "execution_count": 126,
   "id": "f3d06e13",
   "metadata": {},
   "outputs": [],
   "source": [
    "#performance del linear regressor sul test set\n",
    "y_pred_sgd= sgd_reg.predict(X_test)\n",
    "'''mse = mean_squared_error(y_test,y_pred_sgd)\n",
    "var = explained_variance_score(y_test,y_pred_sgd)\n",
    "mae = mean_absolute_error(y_test,y_pred_sgd)\n",
    "median_ae = median_absolute_error(y_test,y_pred_sgd)\n",
    "r2 = r2_score(y_test,y_pred_sgd)\n",
    "print(\"mse\",mse)\n",
    "print(\"var\",var)\n",
    "print(\"mae\",mae)\n",
    "print(\"median_ae\",median_ae)\n",
    "print(\"r2\",r2)'''"
   ]
  },
  {
   "cell_type": "code",
   "execution_count": 127,
   "id": "6223d163",
   "metadata": {},
   "outputs": [],
   "source": [
    "regressori.append(sgd_reg)\n",
    "nomi.append(\"SGD Regressor\")\n",
    "modelli_lineari.append(\"SGD Regressor\")"
   ]
  },
  {
   "cell_type": "markdown",
   "id": "bce01678",
   "metadata": {},
   "source": [
    "<h1>Ensemble Models</h1>"
   ]
  },
  {
   "cell_type": "code",
   "execution_count": 128,
   "id": "201a0e25",
   "metadata": {},
   "outputs": [],
   "source": [
    "modelli_ensemble = []"
   ]
  },
  {
   "cell_type": "markdown",
   "id": "12efed50",
   "metadata": {},
   "source": [
    "<h2>Random Forest</h2>"
   ]
  },
  {
   "cell_type": "code",
   "execution_count": 129,
   "id": "729a6c0a",
   "metadata": {},
   "outputs": [],
   "source": [
    "from sklearn.ensemble import RandomForestRegressor\n",
    "\n",
    "forest_reg = RandomForestRegressor() #n_estimators=10, random_state=42\n",
    "forest_reg.fit(X_train, y_train)"
   ]
  },
  {
   "cell_type": "code",
   "execution_count": 130,
   "id": "fc4fd9e8",
   "metadata": {},
   "outputs": [],
   "source": [
    "#performance del forest regressor sul training set\n",
    "y_pred_forest= forest_reg.predict(X_train)\n",
    "'''mse = mean_squared_error(y_train,y_pred_forest)\n",
    "var = explained_variance_score(y_train,y_pred_forest)\n",
    "mae = mean_absolute_error(y_train,y_pred_forest)\n",
    "median_ae = median_absolute_error(y_train,y_pred_forest)\n",
    "r2 = r2_score(y_train,y_pred_forest)\n",
    "print(\"mse\",mse)\n",
    "print(\"var\",var)\n",
    "print(\"mae\",mae)\n",
    "print(\"median_ae\",median_ae)\n",
    "print(\"r2\",r2)'''"
   ]
  },
  {
   "cell_type": "code",
   "execution_count": 131,
   "id": "bb4600b3",
   "metadata": {},
   "outputs": [],
   "source": [
    "regressori.append(forest_reg)\n",
    "nomi.append(\"Forest Regressor\")\n",
    "modelli_lineari.append(\"Forest Regressor\")"
   ]
  },
  {
   "cell_type": "markdown",
   "id": "74edf3b3",
   "metadata": {},
   "source": [
    "<h2>AdaBoost Regressor</h2>"
   ]
  },
  {
   "cell_type": "code",
   "execution_count": 132,
   "id": "935ad896",
   "metadata": {},
   "outputs": [],
   "source": [
    "from sklearn.ensemble import AdaBoostRegressor\n",
    "\n",
    "ada_reg = AdaBoostRegressor()\n",
    "ada_reg.fit(X_train, y_train)"
   ]
  },
  {
   "cell_type": "code",
   "execution_count": 133,
   "id": "b64807f7",
   "metadata": {},
   "outputs": [],
   "source": [
    "regressori.append(ada_reg)\n",
    "nomi.append(\"Ada Regressor\")\n",
    "modelli_ensemble.append(\"Ada Regressor\")"
   ]
  },
  {
   "cell_type": "markdown",
   "id": "6dd4942a",
   "metadata": {},
   "source": [
    "<h2>Neural networks</h2>"
   ]
  },
  {
   "cell_type": "code",
   "execution_count": 134,
   "id": "d7770941",
   "metadata": {},
   "outputs": [],
   "source": [
    "reti_neurali = []"
   ]
  },
  {
   "cell_type": "code",
   "execution_count": 135,
   "id": "1dee8b67",
   "metadata": {},
   "outputs": [],
   "source": [
    "from sklearn.neural_network import MLPRegressor\n",
    "\n",
    "mlp_reg = MLPRegressor()\n",
    "mlp_reg.fit(X_train, y_train)"
   ]
  },
  {
   "cell_type": "code",
   "execution_count": 136,
   "id": "092a7c62",
   "metadata": {},
   "outputs": [],
   "source": [
    "regressori.append(mlp_reg)\n",
    "nomi.append(\"MLP Regressor\")\n",
    "reti_neurali.append(\"MLP Regressor\")"
   ]
  },
  {
   "cell_type": "markdown",
   "id": "57c3e1aa",
   "metadata": {},
   "source": [
    "<h1>Modelli ad Albero</h1>\n"
   ]
  },
  {
   "cell_type": "code",
   "execution_count": 137,
   "id": "d6291509",
   "metadata": {},
   "outputs": [],
   "source": [
    "modelli_alberi = []"
   ]
  },
  {
   "cell_type": "markdown",
   "id": "402b704f",
   "metadata": {},
   "source": [
    "<h2>DecisionTree Regressor</h2>"
   ]
  },
  {
   "cell_type": "code",
   "execution_count": 138,
   "id": "6a93472c",
   "metadata": {},
   "outputs": [],
   "source": [
    "from sklearn.tree import DecisionTreeRegressor\n",
    "\n",
    "tree_reg = DecisionTreeRegressor(random_state=42)\n",
    "tree_reg.fit(X_train, y_train)"
   ]
  },
  {
   "cell_type": "code",
   "execution_count": 139,
   "id": "a82cabe8",
   "metadata": {},
   "outputs": [],
   "source": [
    "regressori.append(tree_reg)\n",
    "nomi.append(\"DecisionTree Regressor\")\n",
    "modelli_alberi.append(\"DecisionTree Regressor\")"
   ]
  },
  {
   "cell_type": "markdown",
   "id": "ce1036d1",
   "metadata": {},
   "source": [
    "<h1>Regressori basati su Istance</h1>"
   ]
  },
  {
   "cell_type": "code",
   "execution_count": 140,
   "id": "bce1d4b2",
   "metadata": {},
   "outputs": [],
   "source": [
    "modelli_istance = []"
   ]
  },
  {
   "cell_type": "markdown",
   "id": "e2afc86a",
   "metadata": {},
   "source": [
    "<h2>K Neighbour Regressor</h2>"
   ]
  },
  {
   "cell_type": "code",
   "execution_count": 141,
   "id": "cd73e871",
   "metadata": {},
   "outputs": [],
   "source": [
    "from sklearn.neighbors import KNeighborsRegressor\n",
    "\n",
    "kn_reg = KNeighborsRegressor()\n",
    "kn_reg.fit(X_train, y_train)"
   ]
  },
  {
   "cell_type": "code",
   "execution_count": 142,
   "id": "d6d27c40",
   "metadata": {},
   "outputs": [],
   "source": [
    "regressori.append(kn_reg)\n",
    "nomi.append(\"K Neighbor Regressor\")\n",
    "modelli_istance.append(\"K Neighbor Regressor\")"
   ]
  },
  {
   "cell_type": "markdown",
   "id": "dc99dc9e",
   "metadata": {},
   "source": [
    "<h1>Valutazione performance modelli - Training set</h1>"
   ]
  },
  {
   "cell_type": "code",
   "execution_count": 143,
   "id": "863bea7c",
   "metadata": {},
   "outputs": [],
   "source": [
    "performance_modelli_training = compute_performance(regressori, nomi, X_train,y_train)\n",
    "performance_train = pd.DataFrame(performance_modelli_training)\n",
    "performance_train"
   ]
  },
  {
   "cell_type": "code",
   "execution_count": null,
   "id": "e1e3450e",
   "metadata": {},
   "outputs": [],
   "source": []
  }
 ],
 "metadata": {
  "kernelspec": {
   "display_name": "Python 3 (ipykernel)",
   "language": "python",
   "name": "python3"
  },
  "language_info": {
   "codemirror_mode": {
    "name": "ipython",
    "version": 3
   },
   "file_extension": ".py",
   "mimetype": "text/x-python",
   "name": "python",
   "nbconvert_exporter": "python",
   "pygments_lexer": "ipython3",
   "version": "3.10.9"
  }
 },
 "nbformat": 4,
 "nbformat_minor": 5
}
